{
 "cells": [
  {
   "cell_type": "markdown",
   "metadata": {},
   "source": [
    "# PCNA equilibration"
   ]
  },
  {
   "cell_type": "code",
   "execution_count": 1,
   "metadata": {
    "collapsed": false
   },
   "outputs": [
    {
     "name": "stdout",
     "output_type": "stream",
     "text": [
      "\n",
      "Please cite -- HTMD: High-Throughput Molecular Dynamics for Molecular Discovery\n",
      "J. Chem. Theory Comput., 2016, 12 (4), pp 1845-1852. \n",
      "http://pubs.acs.org/doi/abs/10.1021/acs.jctc.6b00049\n",
      "\n",
      "You are on the latest HTMD version (unpackaged : /home/ramon/progs/htmd/htmd).\n",
      "\n"
     ]
    }
   ],
   "source": [
    "from htmd.protocols.equilibration_v2 import Equilibration"
   ]
  },
  {
   "cell_type": "code",
   "execution_count": 5,
   "metadata": {
    "collapsed": false,
    "scrolled": true
   },
   "outputs": [
    {
     "name": "stderr",
     "output_type": "stream",
     "text": [
      "2017-02-02 11:19:05,434 - htmd.molecule.readers - WARNING - Reading PDB file with more than 99999 atoms. Bond information can be wrong.\n",
      "2017-02-02 11:19:05,575 - htmd.molecule.readers - INFO - Non-integer serials were read. For safety we will discard all bond information and serials will be assigned automatically.\n",
      "2017-02-02 11:19:19,947 - htmd.molecule.writers - WARNING - Field \"serial\" of PDB overflows. Your data will be truncated to 5 characters.\n"
     ]
    }
   ],
   "source": [
    "md = Equilibration()\n",
    "md.runtime = 4\n",
    "md.timeunits = 'ns'\n",
    "md.temperature = 300\n",
    "md.addConstraint('name P', 1)\n",
    "md.addConstraint('nucleic and not name P', 0.1)\n",
    "md.useconstantratio = False  # only True for membrane sims\n",
    "md.write('./build','./equil')"
   ]
  },
  {
   "cell_type": "markdown",
   "metadata": {},
   "source": [
    "### Run the equilibration"
   ]
  },
  {
   "cell_type": "code",
   "execution_count": 3,
   "metadata": {
    "collapsed": true
   },
   "outputs": [],
   "source": [
    "from htmd import LocalGPUQueue"
   ]
  },
  {
   "cell_type": "code",
   "execution_count": 6,
   "metadata": {
    "collapsed": false
   },
   "outputs": [
    {
     "name": "stderr",
     "output_type": "stream",
     "text": [
      "2017-02-02 11:20:17,420 - htmd.queues.localqueue - INFO - Using GPU devices 0\n",
      "2017-02-02 11:20:17,421 - htmd.queues.localqueue - INFO - Queueing /home/ramon/calculs/PCNA/HTMD/equil\n",
      "2017-02-02 11:20:17,422 - htmd.queues.localqueue - INFO - Running /home/ramon/calculs/PCNA/HTMD/equil on GPU device 0\n",
      "2017-02-03 00:19:43,435 - htmd.queues.localqueue - INFO - Completed /home/ramon/calculs/PCNA/HTMD/equil\n"
     ]
    }
   ],
   "source": [
    "local = LocalGPUQueue()\n",
    "local.submit('./equil/')\n",
    "local.wait()"
   ]
  },
  {
   "cell_type": "code",
   "execution_count": 7,
   "metadata": {
    "collapsed": true
   },
   "outputs": [],
   "source": [
    "local.wait?"
   ]
  },
  {
   "cell_type": "code",
   "execution_count": null,
   "metadata": {
    "collapsed": true
   },
   "outputs": [],
   "source": []
  }
 ],
 "metadata": {
  "kernelspec": {
   "display_name": "Python [default]",
   "language": "python",
   "name": "python3"
  },
  "language_info": {
   "codemirror_mode": {
    "name": "ipython",
    "version": 3
   },
   "file_extension": ".py",
   "mimetype": "text/x-python",
   "name": "python",
   "nbconvert_exporter": "python",
   "pygments_lexer": "ipython3",
   "version": "3.5.2"
  }
 },
 "nbformat": 4,
 "nbformat_minor": 1
}
