{
 "cells": [
  {
   "cell_type": "code",
   "execution_count": 1,
   "metadata": {
    "collapsed": false
   },
   "outputs": [
    {
     "name": "stdout",
     "output_type": "stream",
     "text": [
      "\n",
      "Please cite -- HTMD: High-Throughput Molecular Dynamics for Molecular Discovery\n",
      "J. Chem. Theory Comput., 2016, 12 (4), pp 1845-1852. \n",
      "http://pubs.acs.org/doi/abs/10.1021/acs.jctc.6b00049\n",
      "\n",
      "You are on the latest HTMD version (unpackaged : /home/ramon/progs/htmd/htmd).\n",
      "\n"
     ]
    }
   ],
   "source": [
    "from htmd import *\n",
    "htmd.config(viewer='ngl')"
   ]
  },
  {
   "cell_type": "code",
   "execution_count": 2,
   "metadata": {
    "collapsed": false
   },
   "outputs": [
    {
     "name": "stderr",
     "output_type": "stream",
     "text": [
      "2017-02-01 19:19:42,093 - propka - INFO - No pdbfile provided\n",
      "2017-02-01 19:20:51,823 - htmd.builder.preparationdata - INFO - The following residues are in a non-standard state: HIS    44  A (HID), HIS   153  A (HIE), HIS   246  A (HIE), HIS   299  B (HID), CYS   390  B (CYX), HIS   408  B (HIE), CYS   417  B (CYX), HIS   501  B (HIE), HIS   554  C (HID), HIS   663  C (HIP), HIS   756  C (HIE), DA      1  F (DA5), DG     40  F (DG3), DC      1  G (DC5), DT     40  G (DT3)\n",
      "2017-02-01 19:20:51,828 - htmd.builder.preparationdata - WARNING - Dubious protonation state: the pKa of 6 residues is within 1.0 units of pH 7.0.\n",
      "2017-02-01 19:20:51,829 - htmd.builder.preparationdata - WARNING - Dubious protonation state:    HIS    44  A (pKa= 6.30)\n",
      "2017-02-01 19:20:51,830 - htmd.builder.preparationdata - WARNING - Dubious protonation state:    HIS   299  B (pKa= 6.25)\n",
      "2017-02-01 19:20:51,831 - htmd.builder.preparationdata - WARNING - Dubious protonation state:    HIS   554  C (pKa= 6.49)\n",
      "2017-02-01 19:20:51,831 - htmd.builder.preparationdata - WARNING - Dubious protonation state:    HIS   663  C (pKa= 7.23)\n",
      "2017-02-01 19:20:51,832 - htmd.builder.preparationdata - WARNING - Dubious protonation state:    N+    922T D (pKa= 7.66)\n",
      "2017-02-01 19:20:51,833 - htmd.builder.preparationdata - WARNING - Dubious protonation state:    N+    922T E (pKa= 7.75)\n"
     ]
    },
    {
     "data": {
      "text/plain": [
       "PreparationData object about 985 residues.\n",
       "Please find the full info in the .data property, e.g.: \n",
       "  resname  resid insertion chain        pKa protonation flipped     buried\n",
       "0     MET      1               A        NaN         MET     NaN        NaN\n",
       "1     PHE      2               A        NaN         PHE     NaN        NaN\n",
       "2     GLU      3               A   3.639572         GLU     NaN   0.000000\n",
       "3     ALA      4               A        NaN         ALA     NaN        NaN\n",
       "4     ARG      5               A  14.045757         ARG     NaN  14.285714\n",
       " . . ."
      ]
     },
     "execution_count": 2,
     "metadata": {},
     "output_type": "execute_result"
    }
   ],
   "source": [
    "ternary = Molecule(\"./ternary_endblocked-corr.pdb\")\n",
    "tern_op, prepData = proteinPrepare(ternary, returnDetails=True)\n",
    "prepData"
   ]
  },
  {
   "cell_type": "code",
   "execution_count": 3,
   "metadata": {
    "collapsed": true
   },
   "outputs": [],
   "source": [
    "tern_op.set('segid', 'A', sel='chain A')\n",
    "tern_op.set('segid', 'B', sel='chain B')\n",
    "tern_op.set('segid', 'C', sel='chain C')\n",
    "tern_op.set('segid', 'D', sel='chain D')\n",
    "tern_op.set('segid', 'E', sel='chain E')\n",
    "tern_op.set('segid', 'F', sel='chain F')\n",
    "tern_op.set('segid', 'G', sel='chain G')"
   ]
  },
  {
   "cell_type": "code",
   "execution_count": 4,
   "metadata": {
    "collapsed": true
   },
   "outputs": [],
   "source": [
    "tern_op.center()"
   ]
  },
  {
   "cell_type": "code",
   "execution_count": 5,
   "metadata": {
    "collapsed": false
   },
   "outputs": [
    {
     "name": "stdout",
     "output_type": "stream",
     "text": [
      "70.9604328331\n"
     ]
    }
   ],
   "source": [
    "from htmd.molecule.util import maxDistance\n",
    "D = maxDistance(tern_op, 'all')\n",
    "print(D)"
   ]
  },
  {
   "cell_type": "code",
   "execution_count": 6,
   "metadata": {
    "collapsed": false,
    "scrolled": true
   },
   "outputs": [
    {
     "name": "stderr",
     "output_type": "stream",
     "text": [
      "2017-02-01 19:20:53,647 - htmd.builder.solvate - INFO - Using water pdb file at: /home/ramon/progs/htmd/htmd/builder/wat.pdb\n",
      "2017-02-01 19:20:54,701 - htmd.builder.solvate - INFO - Replicating 12 water segments, 2 by 3 by 2\n"
     ]
    },
    {
     "name": "stdout",
     "output_type": "stream",
     "text": [
      "Solvating: 100% (12/12) [##########################################] eta 00:00 /\n"
     ]
    },
    {
     "name": "stderr",
     "output_type": "stream",
     "text": [
      "2017-02-01 19:21:35,696 - htmd.builder.solvate - INFO - After removing water molecules colliding with other molecules, 41780 water molecules were added to the system.\n"
     ]
    }
   ],
   "source": [
    "smol = solvate(tern_op, pad=5., rotate=False) #Rotation not implemented yet"
   ]
  },
  {
   "cell_type": "code",
   "execution_count": 7,
   "metadata": {
    "collapsed": false,
    "scrolled": false
   },
   "outputs": [
    {
     "name": "stderr",
     "output_type": "stream",
     "text": [
      "2017-02-01 19:21:40,617 - htmd.builder.amber - INFO - Converting CHARMM membranes to AMBER.\n",
      "2017-02-01 19:22:41,756 - htmd.builder.amber - INFO - Path frcmod.ionsjc_tip3p not found, assuming a standard AmberTools file.\n",
      "2017-02-01 19:22:41,757 - htmd.builder.amber - INFO - Writing PDB file for input to tleap.\n",
      "2017-02-01 19:22:43,300 - htmd.molecule.writers - WARNING - Field \"serial\" of PDB overflows. Your data will be truncated to 5 characters.\n",
      "2017-02-01 19:22:54,522 - htmd.builder.amber - INFO - Starting the build.\n",
      "2017-02-01 19:23:50,160 - htmd.builder.amber - INFO - Finished building.\n",
      "2017-02-01 19:23:56,365 - htmd.builder.ionize - INFO - Adding 0 anions + 110 cations for neutralizing and 156 ions for the given salt concentration.\n",
      "2017-02-01 19:23:57,529 - htmd.builder.ionize - INFO - Min distance of ions from molecule: 5A\n",
      "2017-02-01 19:23:57,530 - htmd.builder.ionize - INFO - Min distance between ions: 5A\n",
      "2017-02-01 19:23:57,530 - htmd.builder.ionize - INFO - Placing 266 ions.\n",
      "2017-02-01 19:29:20,001 - htmd.builder.builder - WARNING - Segments ['D' 'E'] contain both protein and non-protein atoms. Please assign separate segments to them or the build procedue might fail.\n",
      "2017-02-01 19:29:20,004 - htmd.builder.amber - INFO - Converting CHARMM membranes to AMBER.\n",
      "2017-02-01 19:29:21,607 - htmd.builder.amber - INFO - Path frcmod.ionsjc_tip3p not found, assuming a standard AmberTools file.\n",
      "2017-02-01 19:29:42,701 - htmd.builder.amber - INFO - Writing PDB file for input to tleap.\n",
      "2017-02-01 19:29:44,249 - htmd.molecule.writers - WARNING - Field \"serial\" of PDB overflows. Your data will be truncated to 5 characters.\n",
      "2017-02-01 19:30:07,504 - htmd.builder.amber - INFO - Starting the build.\n",
      "2017-02-01 19:31:00,292 - htmd.builder.amber - INFO - Finished building.\n",
      "2017-02-01 19:31:04,972 - htmd.molecule.writers - WARNING - Field \"serial\" of PDB overflows. Your data will be truncated to 5 characters.\n",
      "2017-02-01 19:31:05,188 - htmd.molecule.writers - WARNING - Field \"resid\" of PDB overflows. Your data will be truncated to 4 characters.\n"
     ]
    }
   ],
   "source": [
    "#bmol = amber.build(smol, outdir='./build')\n",
    "caps = {}\n",
    "caps['A'] = ['none', 'none']\n",
    "caps['B'] = ['none', 'none']\n",
    "caps['C'] = ['none', 'none']\n",
    "\n",
    "caps['D'] = ['ACE', 'NME']  # Enables capping for segment A\n",
    "caps['E'] = ['ACE', 'NME']  # Enables capping for segment A\n",
    "\n",
    "ffs = ['leaprc.ff14SB',]\n",
    "param = ['frcmod.ionsjc_tip3p','/home/ramon/calculs/PCNA/HTMD/params/parmBSC1.frcmod']\n",
    "atomtypes=  (( \"C1\", \"C\", \"sp2\" ),\n",
    "  ( \"C2\", \"C\", \"sp2\" ),\n",
    "  ( \"CI\", \"C\", \"sp3\" ),\n",
    "  ( \"CE\", \"C\", \"sp3\" ))\n",
    "ss_bonds = [\n",
    "    DisulfideBridge('A', 135, 'A', 162),\n",
    "    DisulfideBridge('B', 390, 'B', 417),\n",
    "    DisulfideBridge('C', 645, 'C', 672),\n",
    "]\n",
    "\n",
    "#ss_bonds =np.vstack((smol.atomselect(\"resid 135 162 and name SG\", indexes=True),\n",
    "#smol.atomselect(\"resid 390 417 and name SG\", indexes=True),\n",
    "#smol.atomselect(\"resid 645 672 and name SG\", indexes=True),))\n",
    "\n",
    "#molbuilt = amber.build(mol, ff=ffs, caps=caps, outdir='/tmp/build', saltconc=0.15)\n",
    "bmol = amber.build(smol, atomtypes=atomtypes, param = param, disulfide=ss_bonds,\n",
    "                   offlibraries='./params/parmBSC1.lib', outdir='./build/',\n",
    "                  ff=ffs, caps=caps, saltconc=0.1)\n"
   ]
  },
  {
   "cell_type": "code",
   "execution_count": 12,
   "metadata": {
    "collapsed": false
   },
   "outputs": [
    {
     "data": {
      "text/plain": [
       "2460"
      ]
     },
     "execution_count": 12,
     "metadata": {},
     "output_type": "execute_result"
    }
   ],
   "source": [
    "smol.atomselect('nucleic and not name P').sum()"
   ]
  },
  {
   "cell_type": "code",
   "execution_count": null,
   "metadata": {
    "collapsed": true
   },
   "outputs": [],
   "source": []
  }
 ],
 "metadata": {
  "anaconda-cloud": {},
  "kernelspec": {
   "display_name": "Python [default]",
   "language": "python",
   "name": "python3"
  },
  "language_info": {
   "codemirror_mode": {
    "name": "ipython",
    "version": 3
   },
   "file_extension": ".py",
   "mimetype": "text/x-python",
   "name": "python",
   "nbconvert_exporter": "python",
   "pygments_lexer": "ipython3",
   "version": "3.5.2"
  }
 },
 "nbformat": 4,
 "nbformat_minor": 1
}
